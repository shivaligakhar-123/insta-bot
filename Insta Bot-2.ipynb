{
 "cells": [
  {
   "cell_type": "code",
   "execution_count": 2,
   "metadata": {},
   "outputs": [
    {
     "name": "stderr",
     "output_type": "stream",
     "text": [
      "[WDM] - Current google-chrome version is 85.0.4183\n",
      "[WDM] - Get LATEST driver version for 85.0.4183\n",
      "[WDM] - Driver [C:\\Users\\shiva\\.wdm\\drivers\\chromedriver\\win32\\85.0.4183.87\\chromedriver.exe] found in cache\n"
     ]
    },
    {
     "name": "stdout",
     "output_type": "stream",
     "text": [
      " \n"
     ]
    }
   ],
   "source": [
    "from selenium import webdriver\n",
    "from webdriver_manager.chrome import ChromeDriverManager\n",
    "from selenium.webdriver.support.ui import WebDriverWait\n",
    "from selenium.webdriver.support import expected_conditions as EC\n",
    "from selenium.webdriver.common.by import By\n",
    "from selenium.webdriver.common.action_chains import ActionChains\n",
    "driver = webdriver.Chrome(ChromeDriverManager().install())\n",
    "import time\n",
    "import datetime\n",
    "import matplotlib.pyplot as plt"
   ]
  },
  {
   "cell_type": "code",
   "execution_count": 4,
   "metadata": {},
   "outputs": [],
   "source": [
    "# logging in the account\n",
    "wait = WebDriverWait(driver, 10)\n",
    "driver.get(\"https://www.instagram.com/\")\n",
    "fields = wait.until(EC.presence_of_all_elements_located((By.CLASS_NAME,\"_2hvTZ\")))\n",
    "username,password = fields[0],fields[1]\n",
    "username.clear()\n",
    "# enter username\n",
    "username.send_keys(\"sampleusername\")\n",
    "password.clear()\n",
    "# enter password\n",
    "password.send_keys(\"smaple password\")\n",
    "login = wait.until(EC.presence_of_all_elements_located((By.CLASS_NAME,\"sqdOP\")))[1]\n",
    "login.click()\n",
    "time.sleep(3) # used when connection is slow\n",
    "notnow = wait.until(EC.presence_of_element_located((By.XPATH,\"//div[contains(@class,'cmbtv')]/button\")))\n",
    "notnow.click()\n",
    "time.sleep(3)\n",
    "notinotnow = wait.until(EC.presence_of_element_located((By.CLASS_NAME,\"HoLwm\")))\n",
    "notinotnow.click()\n",
    "time.sleep(3)"
   ]
  },
  {
   "cell_type": "markdown",
   "metadata": {},
   "source": [
    "# Step 1: Now your friend has followed a lot of different food bloggers, he needs to analyse the habits of these bloggers.\n",
    "### From the list of instagram handles you obtained when you searched ‘food’ in previous project. Open the first 10 handles and find the top 5 which have the highest number of followers\n",
    "### Now Find the number of posts these handles have done in the previous 3 days.\n",
    "### Depict this information using a suitable graph."
   ]
  },
  {
   "cell_type": "code",
   "execution_count": 5,
   "metadata": {
    "scrolled": true
   },
   "outputs": [
    {
     "name": "stdout",
     "output_type": "stream",
     "text": [
      "The usernames obtained by searching 'food' are : \n",
      "foodtalkindia\n",
      "yourfoodlab\n",
      "food\n",
      "foodmantra_india\n",
      "food_queens_2318\n",
      "dilsefoodie\n",
      "rashmimishratm\n",
      "art.with.food_\n",
      "epicfoodlust\n",
      "buzzfeedfood\n",
      "[('buzzfeedfood', 3687704), ('yourfoodlab', 1358496), ('dilsefoodie', 586108), ('foodtalkindia', 301164), ('food', 69822), ('food_queens_2318', 8635), ('epicfoodlust', 3189), ('rashmimishratm', 348), ('art.with.food_', 115), ('foodmantra_india', 54)]\n",
      "The top five usernames according to their follower count are : \n",
      "buzzfeedfood\n",
      "yourfoodlab\n",
      "dilsefoodie\n",
      "foodtalkindia\n",
      "food\n"
     ]
    }
   ],
   "source": [
    "# searching for keyword word\n",
    "search=wait.until(EC.presence_of_element_located((By.CLASS_NAME,\"x3qfX\")))\n",
    "search.clear()\n",
    "search.send_keys(\"food\")\n",
    "usernames_a = wait.until(EC.presence_of_all_elements_located((By.CLASS_NAME,\"yCE8d\")))[:10]\n",
    "# usernames are appended\n",
    "username_list= []\n",
    "for ele in usernames_a:\n",
    "    link=ele.get_attribute('href')\n",
    "    if \"tags\" not in link:\n",
    "        username_list.append(link.split(\"/\")[3])\n",
    "print(\"The usernames obtained by searching 'food' are : \")\n",
    "for ele in username_list:\n",
    "    print(ele)\n",
    "# dict is created so that follower count can be maintained\n",
    "dictionary={}\n",
    "for i in range(len(username_list)):\n",
    "    driver.get(\"https://instagram.com/\"+str(username_list[i]))\n",
    "    follower_s = wait.until(EC.presence_of_element_located((By.XPATH,\"//ul[contains(@class,'k9GMp')]/li[2]/a/span\")))\n",
    "    follower_count = follower_s.get_attribute(\"title\")\n",
    "    follower_count = int(follower_count.replace(\",\",\"\"))\n",
    "    dictionary[username_list[i]] = follower_count\n",
    "    \n",
    "dictionary = sorted(dictionary.items(), key=lambda kv:kv[1],reverse = True)\n",
    "print(dictionary)\n",
    "# top 5 usernames are sorted \n",
    "top_5_usernames = []\n",
    "for i in range(5):\n",
    "    top_5_usernames.append(dictionary[i][0])\n",
    "print(\"The top five usernames according to their follower count are : \")\n",
    "for ele in top_5_usernames:\n",
    "    print(ele)\n"
   ]
  },
  {
   "cell_type": "code",
   "execution_count": 10,
   "metadata": {},
   "outputs": [
    {
     "data": {
      "image/png": "[encoded data removed]",
      "text/plain": [
       "<Figure size 432x288 with 1 Axes>"
      ]
     },
     "metadata": {
      "needs_background": "light"
     },
     "output_type": "display_data"
    }
   ],
   "source": [
    "# creating this dictionary to find number of posts in last three days\n",
    "dictionary2={}\n",
    "for i in range(len(top_5_usernames)):\n",
    "    driver.get(\"https://instagram.com/\"+str(top_5_usernames[i]))\n",
    "    time.sleep(3)\n",
    "    posts = wait.until(EC.presence_of_all_elements_located((By.CLASS_NAME,\"v1Nh3.kIKUG._bz0w\")))\n",
    "    \n",
    "    days = 0\n",
    "    x = datetime.datetime.now()\n",
    "    today = x.date()\n",
    "    j=0\n",
    "    num_posts = 0\n",
    "# # finding date of posts and then running loop \n",
    "# if days is less than three then increasing in number of posts by one \n",
    "    while days<=3:\n",
    "        posts[j].click()\n",
    "        a=wait.until(EC.presence_of_element_located((By.TAG_NAME,\"time\")))\n",
    "        a=a.get_attribute('datetime')[:10]\n",
    "        close = wait.until(EC.presence_of_element_located((By.XPATH,\"//div[contains(@class,'yiMZG')]/button\")))\n",
    "        close.click()\n",
    "        date_object = datetime.datetime.strptime(a, '%Y-%m-%d').date()\n",
    "        days = (today-date_object).days\n",
    "        j+=1\n",
    "        num_posts+=1\n",
    "    dictionary2[top_5_usernames[i]] = num_posts\n",
    "\n",
    "time.sleep(1)\n",
    "names=[]\n",
    "values=[]\n",
    "# plooting graphs by storing them in values and names\n",
    "for keys,value in dictionary2.items():\n",
    "    names.append(keys)\n",
    "    values.append(value)\n",
    "# plotting the graph\n",
    "plt.title(\"Post in 3 Days\")\n",
    "plt.ylabel(\"No of Posts\")\n",
    "plt.xticks(rotation=40)\n",
    "for i in range(len(names)):\n",
    "    plt.bar(names[i],values[i],edgecolor='black')\n",
    "plt.text(-0.07,values[0]+0.04,values[0])\n",
    "plt.text(0.93,values[1]+0.04,values[1])\n",
    "plt.text(1.93,values[2]+0.04,values[2])\n",
    "plt.text(2.93,values[3]+0.04,values[3])\n",
    "plt.text(3.93,values[4]+0.04,values[4])\n",
    "plt.show()"
   ]
  },
  {
   "cell_type": "markdown",
   "metadata": {},
   "source": [
    "## Your friend also needs a list of hashtags that he should use in his posts.\n",
    "### Open the 5 handles you obtained in the last question, and scrape the content of the first 10 posts of each handle.\n",
    "### Prepare a list of all words used in all the scraped posts and calculate the frequency of each word.\n",
    "### Create a csv file with two columns : the word and its frequency\n",
    "### Now, find the hashtags that were most popular among these bloggers\n",
    "### Plot a Pie Chart of the top 5 hashtags obtained and the number of times they were used by these bloggers in the scraped posts."
   ]
  },
  {
   "cell_type": "code",
   "execution_count": 11,
   "metadata": {},
   "outputs": [],
   "source": [
    "# creating a dictionary for obtaining hastags\n",
    "d={}\n",
    "def freqd(l):    \n",
    "    for ele in l:\n",
    "        if ele in d:\n",
    "            d[ele]+=1\n",
    "        else:\n",
    "            d[ele]=1\n",
    "    return d\n",
    "text = [None]*10\n",
    "# running loop for top usernames\n",
    "for i in range(len(top_5_usernames)):\n",
    "    driver.get(\"https://instagram.com/\"+str(top_5_usernames[i]))    \n",
    "    posts = wait.until(EC.presence_of_all_elements_located((By.CLASS_NAME,\"v1Nh3.kIKUG._bz0w\")))[:10]\n",
    "    for j in range(10):        \n",
    "        posts[j].click()\n",
    "#         obtaining post text \n",
    "        data_posts=wait.until(EC.presence_of_element_located((By.XPATH,\"//div[contains(@class,'C4VMK')]/span\")))\n",
    "        text[j] = data_posts.text\n",
    "        close_button=wait.until(EC.presence_of_element_located((By.XPATH,\"//div[contains(@class,'_2dDPU')]/div[3]/button\")))\n",
    "        close_button.click()\n",
    "#         checking for emojis, extra spaces and other symbols for text and replacing them by space\n",
    "        for ele in text[j]:\n",
    "            if ord(ele)>256 or ele in [\"\\n\",\".\",\"{\",\"}\",\"(\",\")\",\"-\",\":\",\",\",\"\",\"&\" ]:     # stop-words\n",
    "                text[j]=text[j].replace(ele, \" \")\n",
    "        words = text[j].split(\" \")\n",
    "# creating frequency for hastags \n",
    "        ans = freqd(words)"
   ]
  },
  {
   "cell_type": "code",
   "execution_count": 12,
   "metadata": {},
   "outputs": [],
   "source": [
    "# creating csv file for data\n",
    "import pandas as pd\n",
    "import numpy as np\n",
    "arr = []\n",
    "for i in ans:\n",
    "    s=[]\n",
    "    s.append(i)\n",
    "    s.append(ans[i])\n",
    "    arr.append(s)\n",
    "arr=np.array(arr)\n",
    "\n",
    "data_freq=pd.DataFrame({\"Words\":arr[:,0],\"Frequency\":arr[:,1]})\n",
    "data_freq.to_csv('freq.csv',index=False)"
   ]
  },
  {
   "cell_type": "code",
   "execution_count": 13,
   "metadata": {},
   "outputs": [
    {
     "data": {
      "image/png": "[encoded data removed]",
      "text/plain": [
       "<Figure size 432x288 with 1 Axes>"
      ]
     },
     "metadata": {},
     "output_type": "display_data"
    }
   ],
   "source": [
    "# plotting graph for those hashtags\n",
    "data_freq = data_freq[data_freq[\"Words\"].str.startswith(\"#\")]\n",
    "for i in range(len(data_freq)):\n",
    "    data_freq.iloc[i][1] = int(data_freq.iloc[i][1])\n",
    "data_freq = data_freq.sort_values(by=[\"Frequency\"],ascending=False)\n",
    "names = data_freq.Words.values[:5]\n",
    "values = data_freq.Frequency.values[:5]\n",
    "explode=[0.1]*5\n",
    "\n",
    "plt.pie(values,labels=names,shadow=True,autopct = \"%.2f%%\", wedgeprops = {'linewidth': 3},explode=explode)\n",
    "plt.show()"
   ]
  },
  {
   "cell_type": "markdown",
   "metadata": {},
   "source": [
    "## You need to also calculate average followers : likes ratio for the obtained handles.\n",
    "## Followers : Likes ratio is calculated as follows:\n",
    "### Find out the likes of the top 10 posts of the 5 handles obtained earlier.\n",
    "### Calculate the average likes for a handle.\n",
    "### Divide the average likes obtained from the number of followers of the handle to get the average followers:like ratio of each handle.\n",
    "### Create a bar graph to depict the above obtained information."
   ]
  },
  {
   "cell_type": "code",
   "execution_count": null,
   "metadata": {},
   "outputs": [],
   "source": [
    "# this code can't be run in my browser as my instagram is updated and number of likes are no longer avilable\n",
    "# please contact before evaluating 8742039115\n",
    "wait=WebDriverWait(driver,10)\n",
    "# creating dictionary for appending required result\n",
    "dict4 = {}\n",
    "for i in range(len(top_5_usernames)):\n",
    "    dict4[top_5_usernames[i]] = []\n",
    "# running loop for top five usernames\n",
    "for i in range(len(top_5_usernames)):\n",
    "    driver.get(\"https://instagram.com/\"+str(top_5_usernames[i]))\n",
    "# going to first 10 posts\n",
    "    for j in range(10):\n",
    "        posts = wait.until(EC.presence_of_all_elements_located((By.CLASS_NAME,\"v1Nh3.kIKUG._bz0w\")))[:10]\n",
    "        posts[j].click()\n",
    "        time.sleep(1)\n",
    "# getting their likes if it is a simple post\n",
    "        try:\n",
    "            likes = wait.until(EC.presence_of_element_located((By.XPATH,'//div[contains(@class,\"Nm9Fw\")]/button/span')))\n",
    "            like = likes.get_attribute(\"innerHTML\")\n",
    "            like=int(like.replace(\",\",\"\"))\n",
    "            dict4[top_5_usernames[i]].append(like)\n",
    "            time.sleep(1)\n",
    "            close_button=wait.until(EC.presence_of_element_located((By.XPATH,\"//div[contains(@class,'_2dDPU')]/div[3]/button\")))\n",
    "            close_button.click() \n",
    "# this except condition is for igtv videos which have views as well as likes\n",
    "        except:\n",
    "            actions = ActionChains(driver)\n",
    "            views = driver.find_element_by_class_name('vcOH2')\n",
    "            views.click()\n",
    "            likes = wait.until(EC.presence_of_element_located((By.XPATH,'//div[contains(@class,\"vJRqr\")]/span')))\n",
    "            like = likes.get_attribute(\"innerHTML\")\n",
    "            like=int(like.replace(\",\",\"\"))\n",
    "            dict4[top_5_usernames[i]].append(like)\n",
    "            time.sleep(1)\n",
    "            close_button=wait.until(EC.presence_of_element_located((By.XPATH,\"//div[contains(@class,'_2dDPU')]/div[3]/button\")))\n",
    "            actions.double_click(close_button).perform();\n",
    "      \n",
    "        \n",
    "# printing the result\n",
    "for i in range(5):\n",
    "    dict4[top_5_usernames[i]] = np.array(dict4[top_5_usernames[i]])\n",
    "    print(\"For Username: \",dict1[i][0], \"Follower:Like is :\")\n",
    "    print((dict4[top_5_usernames[i]].mean()) / dict1[i][1])\n",
    "# plotting the graph\n",
    "names = []\n",
    "values= []\n",
    "for i in range(5):\n",
    "    names.append(dict1[i][0])\n",
    "    values.append((dict4[top_5_usernames[i]].mean()) / dict1[i][1])\n",
    "plt.title(\"Usernames\")\n",
    "plt.ylabel(\"Followers:like Ratio\")\n",
    "plt.xticks(rotation=40)\n",
    "for i in range(len(names)):\n",
    "    plt.bar(names[i],values[i],edgecolor='black')\n",
    "plt.text(-0.07,values[0]+0.04,values[0])\n",
    "plt.text(0.93,values[1]+0.04,values[1])\n",
    "plt.text(1.93,values[2]+0.04,values[2])\n",
    "plt.text(2.93,values[3]+0.04,values[3])\n",
    "plt.text(3.93,values[4]+0.04,values[4])\n",
    "plt.show()  \n",
    "    \n"
   ]
  }
 ],
 "metadata": {
  "kernelspec": {
   "display_name": "Python 3",
   "language": "python",
   "name": "python3"
  },
  "language_info": {
   "codemirror_mode": {
    "name": "ipython",
    "version": 3
   },
   "file_extension": ".py",
   "mimetype": "text/x-python",
   "name": "python",
   "nbconvert_exporter": "python",
   "pygments_lexer": "ipython3",
   "version": "3.7.6"
  }
 },
 "nbformat": 4,
 "nbformat_minor": 4
}
